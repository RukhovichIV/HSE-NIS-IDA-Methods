{
 "cells": [
  {
   "cell_type": "code",
   "execution_count": 1,
   "metadata": {},
   "outputs": [],
   "source": [
    "import numpy as np\n",
    "import pandas as pd\n",
    "import re\n",
    "import nltk\n",
    "from nltk.tokenize import sent_tokenize, TweetTokenizer\n",
    "from matplotlib import pyplot as plt\n",
    "import seaborn as sns"
   ]
  },
  {
   "cell_type": "code",
   "execution_count": 2,
   "metadata": {},
   "outputs": [
    {
     "name": "stderr",
     "output_type": "stream",
     "text": [
      "[nltk_data] Downloading package punkt to /Users/19598961/nltk_data...\n",
      "[nltk_data]   Package punkt is already up-to-date!\n",
      "[nltk_data] Downloading package averaged_perceptron_tagger to\n",
      "[nltk_data]     /Users/19598961/nltk_data...\n",
      "[nltk_data]   Package averaged_perceptron_tagger is already up-to-\n",
      "[nltk_data]       date!\n",
      "[nltk_data] Downloading package tagsets to\n",
      "[nltk_data]     /Users/19598961/nltk_data...\n",
      "[nltk_data]   Package tagsets is already up-to-date!\n"
     ]
    },
    {
     "data": {
      "text/plain": [
       "True"
      ]
     },
     "execution_count": 2,
     "metadata": {},
     "output_type": "execute_result"
    }
   ],
   "source": [
    "nltk.download('punkt')\n",
    "nltk.download('averaged_perceptron_tagger')\n",
    "nltk.download('tagsets')"
   ]
  },
  {
   "cell_type": "code",
   "execution_count": 3,
   "metadata": {},
   "outputs": [],
   "source": [
    "sentence_examples = {\n",
    "    \"high_readability\": \"The sun rises in the east every morning.\",\n",
    "    \"low_readability\": \"The intricacies of quantum mechanics, as expounded upon by renowned physicists, continue to baffle even the most astute scholars.\",\n",
    "    \"high_formality\": \"Esteemed Colleague, I extend cordial greetings. I wish to apprise you of the impending corporate meeting slated for the 15th of March. Your attendance would be highly appreciated.\",\n",
    "    \"low_formality\": \"Hey! Quick heads up – we've got a meeting on March 15. It'd be awesome if you could make it. Can't wait to catch up!\",\n",
    "    \"high_concreteness\": \"I can smell the flowers and feel the warmth of the sun as I walk through the colorful garden.\",\n",
    "    \"low_concreteness\": \"The beauty and calmness of nature create a sense of harmony and connection.\",\n",
    "}"
   ]
  },
  {
   "cell_type": "markdown",
   "metadata": {},
   "source": [
    "# Readability"
   ]
  },
  {
   "cell_type": "code",
   "execution_count": 4,
   "metadata": {},
   "outputs": [],
   "source": [
    "def count_syllables(word: str) -> int:\n",
    "    word = word if type(word) is str else str(word)\n",
    "    word = word.lower()\n",
    "\n",
    "    if len(word) <= 3:\n",
    "        return 1\n",
    "\n",
    "    word = re.sub('(?:[^laeiouy]es|[^laeiouy]e)$', '', word)\n",
    "    word = re.sub('^y', '', word)\n",
    "    matches = re.findall('[aeiouy]{1,2}', word)\n",
    "    return len(matches)\n",
    "\n",
    "def count_words(text: str):\n",
    "    tokens = TweetTokenizer().tokenize(text)\n",
    "    word_count = 0\n",
    "    for t in tokens:\n",
    "        if re.match('^[.,\\/#!$%\\'\\^&\\*;:{}=\\-_`~()]$', t) is None:\n",
    "            word_count += 1\n",
    "    \n",
    "    return word_count\n",
    "\n",
    "def compute_readability(text: str) -> float:\n",
    "    tokenizer = TweetTokenizer()\n",
    "    tokens = tokenizer.tokenize(text)\n",
    "    syllable_count = 0\n",
    "    word_count = 0\n",
    "    for t in tokens:\n",
    "        if re.match('^[.,\\/#!$%\\'\\^&\\*;:{}=\\-_`~()]$', t) is None:\n",
    "            word_count += 1\n",
    "            word_syllable_count = count_syllables(t)\n",
    "            syllable_count += word_syllable_count\n",
    "\n",
    "    sentence_count = len(sent_tokenize(text))\n",
    "\n",
    "    return 206.835 - 1.015 * word_count / sentence_count - 84.6 * syllable_count / word_count"
   ]
  },
  {
   "cell_type": "code",
   "execution_count": 5,
   "metadata": {},
   "outputs": [
    {
     "name": "stdout",
     "output_type": "stream",
     "text": [
      "The sun rises in the east every morning.\n"
     ]
    },
    {
     "data": {
      "text/plain": [
       "82.39000000000001"
      ]
     },
     "execution_count": 5,
     "metadata": {},
     "output_type": "execute_result"
    }
   ],
   "source": [
    "print(sentence_examples[\"high_readability\"])\n",
    "compute_readability(sentence_examples[\"high_readability\"])"
   ]
  },
  {
   "cell_type": "code",
   "execution_count": 6,
   "metadata": {},
   "outputs": [
    {
     "name": "stdout",
     "output_type": "stream",
     "text": [
      "The intricacies of quantum mechanics, as expounded upon by renowned physicists, continue to baffle even the most astute scholars.\n"
     ]
    },
    {
     "data": {
      "text/plain": [
       "18.350000000000023"
      ]
     },
     "execution_count": 6,
     "metadata": {},
     "output_type": "execute_result"
    }
   ],
   "source": [
    "print(sentence_examples[\"low_readability\"])\n",
    "compute_readability(sentence_examples[\"low_readability\"])"
   ]
  },
  {
   "cell_type": "markdown",
   "metadata": {},
   "source": [
    "# Formality"
   ]
  },
  {
   "cell_type": "code",
   "execution_count": 7,
   "metadata": {},
   "outputs": [
    {
     "name": "stdout",
     "output_type": "stream",
     "text": [
      "$: dollar\n",
      "    $ -$ --$ A$ C$ HK$ M$ NZ$ S$ U.S.$ US$\n",
      "'': closing quotation mark\n",
      "    ' ''\n",
      "(: opening parenthesis\n",
      "    ( [ {\n",
      "): closing parenthesis\n",
      "    ) ] }\n",
      ",: comma\n",
      "    ,\n",
      "--: dash\n",
      "    --\n",
      ".: sentence terminator\n",
      "    . ! ?\n",
      ":: colon or ellipsis\n",
      "    : ; ...\n",
      "CC: conjunction, coordinating\n",
      "    & 'n and both but either et for less minus neither nor or plus so\n",
      "    therefore times v. versus vs. whether yet\n",
      "CD: numeral, cardinal\n",
      "    mid-1890 nine-thirty forty-two one-tenth ten million 0.5 one forty-\n",
      "    seven 1987 twenty '79 zero two 78-degrees eighty-four IX '60s .025\n",
      "    fifteen 271,124 dozen quintillion DM2,000 ...\n",
      "DT: determiner\n",
      "    all an another any both del each either every half la many much nary\n",
      "    neither no some such that the them these this those\n",
      "EX: existential there\n",
      "    there\n",
      "FW: foreign word\n",
      "    gemeinschaft hund ich jeux habeas Haementeria Herr K'ang-si vous\n",
      "    lutihaw alai je jour objets salutaris fille quibusdam pas trop Monte\n",
      "    terram fiche oui corporis ...\n",
      "IN: preposition or conjunction, subordinating\n",
      "    astride among uppon whether out inside pro despite on by throughout\n",
      "    below within for towards near behind atop around if like until below\n",
      "    next into if beside ...\n",
      "JJ: adjective or numeral, ordinal\n",
      "    third ill-mannered pre-war regrettable oiled calamitous first separable\n",
      "    ectoplasmic battery-powered participatory fourth still-to-be-named\n",
      "    multilingual multi-disciplinary ...\n",
      "JJR: adjective, comparative\n",
      "    bleaker braver breezier briefer brighter brisker broader bumper busier\n",
      "    calmer cheaper choosier cleaner clearer closer colder commoner costlier\n",
      "    cozier creamier crunchier cuter ...\n",
      "JJS: adjective, superlative\n",
      "    calmest cheapest choicest classiest cleanest clearest closest commonest\n",
      "    corniest costliest crassest creepiest crudest cutest darkest deadliest\n",
      "    dearest deepest densest dinkiest ...\n",
      "LS: list item marker\n",
      "    A A. B B. C C. D E F First G H I J K One SP-44001 SP-44002 SP-44005\n",
      "    SP-44007 Second Third Three Two * a b c d first five four one six three\n",
      "    two\n",
      "MD: modal auxiliary\n",
      "    can cannot could couldn't dare may might must need ought shall should\n",
      "    shouldn't will would\n",
      "NN: noun, common, singular or mass\n",
      "    common-carrier cabbage knuckle-duster Casino afghan shed thermostat\n",
      "    investment slide humour falloff slick wind hyena override subhumanity\n",
      "    machinist ...\n",
      "NNP: noun, proper, singular\n",
      "    Motown Venneboerger Czestochwa Ranzer Conchita Trumplane Christos\n",
      "    Oceanside Escobar Kreisler Sawyer Cougar Yvette Ervin ODI Darryl CTCA\n",
      "    Shannon A.K.C. Meltex Liverpool ...\n",
      "NNPS: noun, proper, plural\n",
      "    Americans Americas Amharas Amityvilles Amusements Anarcho-Syndicalists\n",
      "    Andalusians Andes Andruses Angels Animals Anthony Antilles Antiques\n",
      "    Apache Apaches Apocrypha ...\n",
      "NNS: noun, common, plural\n",
      "    undergraduates scotches bric-a-brac products bodyguards facets coasts\n",
      "    divestitures storehouses designs clubs fragrances averages\n",
      "    subjectivists apprehensions muses factory-jobs ...\n",
      "PDT: pre-determiner\n",
      "    all both half many quite such sure this\n",
      "POS: genitive marker\n",
      "    ' 's\n",
      "PRP: pronoun, personal\n",
      "    hers herself him himself hisself it itself me myself one oneself ours\n",
      "    ourselves ownself self she thee theirs them themselves they thou thy us\n",
      "PRP$: pronoun, possessive\n",
      "    her his mine my our ours their thy your\n",
      "RB: adverb\n",
      "    occasionally unabatingly maddeningly adventurously professedly\n",
      "    stirringly prominently technologically magisterially predominately\n",
      "    swiftly fiscally pitilessly ...\n",
      "RBR: adverb, comparative\n",
      "    further gloomier grander graver greater grimmer harder harsher\n",
      "    healthier heavier higher however larger later leaner lengthier less-\n",
      "    perfectly lesser lonelier longer louder lower more ...\n",
      "RBS: adverb, superlative\n",
      "    best biggest bluntest earliest farthest first furthest hardest\n",
      "    heartiest highest largest least less most nearest second tightest worst\n",
      "RP: particle\n",
      "    aboard about across along apart around aside at away back before behind\n",
      "    by crop down ever fast for forth from go high i.e. in into just later\n",
      "    low more off on open out over per pie raising start teeth that through\n",
      "    under unto up up-pp upon whole with you\n",
      "SYM: symbol\n",
      "    % & ' '' ''. ) ). * + ,. < = > @ A[fj] U.S U.S.S.R * ** ***\n",
      "TO: \"to\" as preposition or infinitive marker\n",
      "    to\n",
      "UH: interjection\n",
      "    Goodbye Goody Gosh Wow Jeepers Jee-sus Hubba Hey Kee-reist Oops amen\n",
      "    huh howdy uh dammit whammo shucks heck anyways whodunnit honey golly\n",
      "    man baby diddle hush sonuvabitch ...\n",
      "VB: verb, base form\n",
      "    ask assemble assess assign assume atone attention avoid bake balkanize\n",
      "    bank begin behold believe bend benefit bevel beware bless boil bomb\n",
      "    boost brace break bring broil brush build ...\n",
      "VBD: verb, past tense\n",
      "    dipped pleaded swiped regummed soaked tidied convened halted registered\n",
      "    cushioned exacted snubbed strode aimed adopted belied figgered\n",
      "    speculated wore appreciated contemplated ...\n",
      "VBG: verb, present participle or gerund\n",
      "    telegraphing stirring focusing angering judging stalling lactating\n",
      "    hankerin' alleging veering capping approaching traveling besieging\n",
      "    encrypting interrupting erasing wincing ...\n",
      "VBN: verb, past participle\n",
      "    multihulled dilapidated aerosolized chaired languished panelized used\n",
      "    experimented flourished imitated reunifed factored condensed sheared\n",
      "    unsettled primed dubbed desired ...\n",
      "VBP: verb, present tense, not 3rd person singular\n",
      "    predominate wrap resort sue twist spill cure lengthen brush terminate\n",
      "    appear tend stray glisten obtain comprise detest tease attract\n",
      "    emphasize mold postpone sever return wag ...\n",
      "VBZ: verb, present tense, 3rd person singular\n",
      "    bases reconstructs marks mixes displeases seals carps weaves snatches\n",
      "    slumps stretches authorizes smolders pictures emerges stockpiles\n",
      "    seduces fizzes uses bolsters slaps speaks pleads ...\n",
      "WDT: WH-determiner\n",
      "    that what whatever which whichever\n",
      "WP: WH-pronoun\n",
      "    that what whatever whatsoever which who whom whosoever\n",
      "WP$: WH-pronoun, possessive\n",
      "    whose\n",
      "WRB: Wh-adverb\n",
      "    how however whence whenever where whereby whereever wherein whereof why\n",
      "``: opening quotation mark\n",
      "    ` ``\n"
     ]
    }
   ],
   "source": [
    "# List of all POS-tags in NLTK\n",
    "nltk.help.upenn_tagset()"
   ]
  },
  {
   "cell_type": "code",
   "execution_count": 8,
   "metadata": {},
   "outputs": [],
   "source": [
    "def compute_formality(text: str) -> float:\n",
    "    positive_tags = [\"NN\", \"NNP\", \"NNPS\", \"NNS\",\n",
    "                     \"JJ\", \"JJR\", \"JJS\",\n",
    "                     \"IN\", \"TO\",\n",
    "                     \"DT\", \"PDT\", \"WDT\"]\n",
    "    negative_tags = [\"PRP\", \"PRP$\", \"WP\", \"WP$\",\n",
    "                     \"VB\", \"VBD\", \"VBG\", \"VBN\", \"VBP\", \"VBZ\",\n",
    "                     \"RB\", \"RBR\", \"RBS\", \"WRB\",\n",
    "                     \"UH\"]\n",
    "    p_count, n_count = 0, 0\n",
    "    for word, pos in nltk.pos_tag(nltk.word_tokenize(text)):\n",
    "        if pos in positive_tags:\n",
    "            p_count += 1\n",
    "        elif pos in negative_tags:\n",
    "            n_count += 1\n",
    "\n",
    "    word_count = count_words(text)\n",
    "    return (p_count / word_count - n_count / word_count + 1) * 50\n"
   ]
  },
  {
   "cell_type": "code",
   "execution_count": 9,
   "metadata": {},
   "outputs": [
    {
     "name": "stdout",
     "output_type": "stream",
     "text": [
      "Esteemed Colleague, I extend cordial greetings. I wish to apprise you of the impending corporate meeting slated for the 15th of March. Your attendance would be highly appreciated.\n"
     ]
    },
    {
     "data": {
      "text/plain": [
       "57.14285714285714"
      ]
     },
     "execution_count": 9,
     "metadata": {},
     "output_type": "execute_result"
    }
   ],
   "source": [
    "print(sentence_examples[\"high_formality\"])\n",
    "compute_formality(sentence_examples[\"high_formality\"])"
   ]
  },
  {
   "cell_type": "code",
   "execution_count": 10,
   "metadata": {},
   "outputs": [
    {
     "name": "stdout",
     "output_type": "stream",
     "text": [
      "Hey! Quick heads up – we've got a meeting on March 15. It'd be awesome if you could make it. Can't wait to catch up!\n"
     ]
    },
    {
     "data": {
      "text/plain": [
       "44.0"
      ]
     },
     "execution_count": 10,
     "metadata": {},
     "output_type": "execute_result"
    }
   ],
   "source": [
    "print(sentence_examples[\"low_formality\"])\n",
    "compute_formality(sentence_examples[\"low_formality\"])"
   ]
  },
  {
   "cell_type": "markdown",
   "metadata": {},
   "source": [
    "# Concreteness"
   ]
  },
  {
   "cell_type": "code",
   "execution_count": 11,
   "metadata": {},
   "outputs": [
    {
     "data": {
      "text/plain": [
       "Word\n",
       "a                 1.46\n",
       "aardvark          4.68\n",
       "aback             1.65\n",
       "abacus            4.52\n",
       "abandon           2.54\n",
       "                  ... \n",
       "zebra crossing    4.56\n",
       "zero tolerance    2.21\n",
       "ZIP code          3.77\n",
       "zoom in           3.57\n",
       "zoom lens         4.81\n",
       "Name: Conc.M, Length: 39954, dtype: float64"
      ]
     },
     "execution_count": 11,
     "metadata": {},
     "output_type": "execute_result"
    }
   ],
   "source": [
    "word_concreteness_df = pd.read_excel(\"../data/concreteness_dataset.xlsx\").set_index(\"Word\")[\"Conc.M\"].squeeze()\n",
    "word_concreteness_df"
   ]
  },
  {
   "cell_type": "code",
   "execution_count": 12,
   "metadata": {},
   "outputs": [],
   "source": [
    "def compute_concreteness(word_concreteness_df: pd.Series, text: str) -> float:\n",
    "    tokens = TweetTokenizer().tokenize(text)\n",
    "\n",
    "    concreteness, n_words = 0, 0\n",
    "    for t in tokens:\n",
    "        if re.match('^[.,\\/#!$%\\'\\^&\\*;:{}=\\-_`~()]$', t) is None:\n",
    "            word = t.lower()\n",
    "            if word in word_concreteness_df:\n",
    "                concreteness += word_concreteness_df[word]\n",
    "                n_words += 1\n",
    "    \n",
    "    return concreteness / n_words"
   ]
  },
  {
   "cell_type": "code",
   "execution_count": 13,
   "metadata": {},
   "outputs": [
    {
     "name": "stdout",
     "output_type": "stream",
     "text": [
      "I can smell the flowers and feel the warmth of the sun as I walk through the colorful garden.\n"
     ]
    },
    {
     "data": {
      "text/plain": [
       "2.779375"
      ]
     },
     "execution_count": 13,
     "metadata": {},
     "output_type": "execute_result"
    }
   ],
   "source": [
    "print(sentence_examples[\"high_concreteness\"])\n",
    "compute_concreteness(word_concreteness_df, sentence_examples[\"high_concreteness\"])"
   ]
  },
  {
   "cell_type": "code",
   "execution_count": 14,
   "metadata": {},
   "outputs": [
    {
     "name": "stdout",
     "output_type": "stream",
     "text": [
      "The beauty and calmness of nature create a sense of harmony and connection.\n"
     ]
    },
    {
     "data": {
      "text/plain": [
       "2.1261538461538465"
      ]
     },
     "execution_count": 14,
     "metadata": {},
     "output_type": "execute_result"
    }
   ],
   "source": [
    "print(sentence_examples[\"low_concreteness\"])\n",
    "compute_concreteness(word_concreteness_df, sentence_examples[\"low_concreteness\"])"
   ]
  },
  {
   "cell_type": "markdown",
   "metadata": {},
   "source": [
    "# Real Dataset"
   ]
  },
  {
   "cell_type": "code",
   "execution_count": 15,
   "metadata": {},
   "outputs": [
    {
     "data": {
      "text/html": [
       "<div>\n",
       "<style scoped>\n",
       "    .dataframe tbody tr th:only-of-type {\n",
       "        vertical-align: middle;\n",
       "    }\n",
       "\n",
       "    .dataframe tbody tr th {\n",
       "        vertical-align: top;\n",
       "    }\n",
       "\n",
       "    .dataframe thead th {\n",
       "        text-align: right;\n",
       "    }\n",
       "</style>\n",
       "<table border=\"1\" class=\"dataframe\">\n",
       "  <thead>\n",
       "    <tr style=\"text-align: right;\">\n",
       "      <th></th>\n",
       "      <th></th>\n",
       "      <th>Правильный ответ</th>\n",
       "      <th>GigaChat</th>\n",
       "      <th>GigaChat ответил верно</th>\n",
       "      <th>ChatGPT</th>\n",
       "      <th>ChatGPT ответил верно</th>\n",
       "      <th>Claude</th>\n",
       "      <th>Claude ответил верно</th>\n",
       "    </tr>\n",
       "  </thead>\n",
       "  <tbody>\n",
       "    <tr>\n",
       "      <th>0</th>\n",
       "      <td>Giver some premises, conduct reasoning to answ...</td>\n",
       "      <td>True</td>\n",
       "      <td>Based on the given premises, we can conclude t...</td>\n",
       "      <td>Да</td>\n",
       "      <td>Let's analyze the premises to determine whethe...</td>\n",
       "      <td>Да</td>\n",
       "      <td>Okay, let's analyze this step-by-step:\\nPremis...</td>\n",
       "      <td>Да</td>\n",
       "    </tr>\n",
       "    <tr>\n",
       "      <th>1</th>\n",
       "      <td>Giver some premises, conduct reasoning to answ...</td>\n",
       "      <td>False</td>\n",
       "      <td>Based on the given premises, we can conclude t...</td>\n",
       "      <td>Нет</td>\n",
       "      <td>Let's break down the premises and use logical ...</td>\n",
       "      <td>Нет</td>\n",
       "      <td>Okay, let's analyze this step-by-step:\\n\\nPrem...</td>\n",
       "      <td>Да</td>\n",
       "    </tr>\n",
       "    <tr>\n",
       "      <th>2</th>\n",
       "      <td>Giver some premises, conduct reasoning to answ...</td>\n",
       "      <td>False</td>\n",
       "      <td>Based on the given premises, we can conclude t...</td>\n",
       "      <td>Да</td>\n",
       "      <td>Let's break down the premises given:\\n\\n1. All...</td>\n",
       "      <td>Нет</td>\n",
       "      <td>Okay, let's analyze this step-by-step:\\n\\nPrem...</td>\n",
       "      <td>Да</td>\n",
       "    </tr>\n",
       "    <tr>\n",
       "      <th>3</th>\n",
       "      <td>Giver some premises, conduct reasoning to answ...</td>\n",
       "      <td>False</td>\n",
       "      <td>Based on the given premises, we can conclude t...</td>\n",
       "      <td>Нет</td>\n",
       "      <td>Let's break down the premises and conduct reas...</td>\n",
       "      <td>Нет</td>\n",
       "      <td>Okay, let's analyze this step-by-step:\\n\\nPrem...</td>\n",
       "      <td>Да</td>\n",
       "    </tr>\n",
       "    <tr>\n",
       "      <th>4</th>\n",
       "      <td>Giver some premises, conduct reasoning to answ...</td>\n",
       "      <td>True</td>\n",
       "      <td>Based on the given premises, we can conclude t...</td>\n",
       "      <td>Нет</td>\n",
       "      <td>Let's break down the premises and reason throu...</td>\n",
       "      <td>Да</td>\n",
       "      <td>Okay, let's analyze this step-by-step:\\n\\nPrem...</td>\n",
       "      <td>Да</td>\n",
       "    </tr>\n",
       "  </tbody>\n",
       "</table>\n",
       "</div>"
      ],
      "text/plain": [
       "                                                     Правильный ответ  \\\n",
       "0  Giver some premises, conduct reasoning to answ...             True   \n",
       "1  Giver some premises, conduct reasoning to answ...            False   \n",
       "2  Giver some premises, conduct reasoning to answ...            False   \n",
       "3  Giver some premises, conduct reasoning to answ...            False   \n",
       "4  Giver some premises, conduct reasoning to answ...             True   \n",
       "\n",
       "                                            GigaChat GigaChat ответил верно  \\\n",
       "0  Based on the given premises, we can conclude t...                     Да   \n",
       "1  Based on the given premises, we can conclude t...                    Нет   \n",
       "2  Based on the given premises, we can conclude t...                     Да   \n",
       "3  Based on the given premises, we can conclude t...                    Нет   \n",
       "4  Based on the given premises, we can conclude t...                    Нет   \n",
       "\n",
       "                                             ChatGPT ChatGPT ответил верно  \\\n",
       "0  Let's analyze the premises to determine whethe...                    Да   \n",
       "1  Let's break down the premises and use logical ...                   Нет   \n",
       "2  Let's break down the premises given:\\n\\n1. All...                   Нет   \n",
       "3  Let's break down the premises and conduct reas...                   Нет   \n",
       "4  Let's break down the premises and reason throu...                    Да   \n",
       "\n",
       "                                              Claude Claude ответил верно  \n",
       "0  Okay, let's analyze this step-by-step:\\nPremis...                   Да  \n",
       "1  Okay, let's analyze this step-by-step:\\n\\nPrem...                   Да  \n",
       "2  Okay, let's analyze this step-by-step:\\n\\nPrem...                   Да  \n",
       "3  Okay, let's analyze this step-by-step:\\n\\nPrem...                   Да  \n",
       "4  Okay, let's analyze this step-by-step:\\n\\nPrem...                   Да  "
      ]
     },
     "execution_count": 15,
     "metadata": {},
     "output_type": "execute_result"
    }
   ],
   "source": [
    "pd.read_excel(\"../data/dataset_tronindv.xlsx\", 1).head(5)"
   ]
  },
  {
   "cell_type": "code",
   "execution_count": 16,
   "metadata": {},
   "outputs": [],
   "source": [
    "df_total = {}\n",
    "df_total[\"prompt\"] = []\n",
    "df_total[\"hal_gigachat\"] = []\n",
    "df_total[\"hal_chatgpt\"] = []\n",
    "df_total[\"hal_claude\"] = []"
   ]
  },
  {
   "cell_type": "code",
   "execution_count": 17,
   "metadata": {},
   "outputs": [
    {
     "name": "stdout",
     "output_type": "stream",
     "text": [
      "0          Can you explain what is ology?\n",
      "1        Can you explain what is playset?\n",
      "2       Can you explain what is footwell?\n",
      "3      Can you explain what is fathering?\n",
      "4    Can you explain what is conjunctiva?\n",
      "Name: Промпт, dtype: object\n",
      "Sum: 20\n",
      "Sum: 20\n",
      "Sum: 20\n"
     ]
    }
   ],
   "source": [
    "df_0 = pd.read_excel(\"../data/dataset_tronindv.xlsx\", sheet_name=0, nrows=20)\n",
    "print(df_0[\"Промпт\"].head(5))\n",
    "print(f'Sum: {((df_0[\"GigaChat ответил верно\"] == \"Да\") | (df_0[\"GigaChat ответил верно\"] == \"Нет\")).sum()}')\n",
    "print(f'Sum: {((df_0[\"ChatGPT ответил верно\"] == \"Да\") | (df_0[\"ChatGPT ответил верно\"] == \"Нет\")).sum()}')\n",
    "print(f'Sum: {((df_0[\"Claude ответил верно\"] == \"Да\") | (df_0[\"Claude ответил верно\"] == \"Нет\")).sum()}')\n",
    "\n",
    "df_total[\"prompt\"].extend(df_0[\"Промпт\"].values)\n",
    "df_total[\"hal_gigachat\"].extend((df_0[\"GigaChat ответил верно\"] == \"Нет\").values)\n",
    "df_total[\"hal_chatgpt\"].extend((df_0[\"ChatGPT ответил верно\"] == \"Нет\").values)\n",
    "df_total[\"hal_claude\"].extend((df_0[\"Claude ответил верно\"] == \"Нет\").values)"
   ]
  },
  {
   "cell_type": "code",
   "execution_count": 18,
   "metadata": {},
   "outputs": [
    {
     "name": "stdout",
     "output_type": "stream",
     "text": [
      "0    Giver some premises, conduct reasoning to answ...\n",
      "1    Giver some premises, conduct reasoning to answ...\n",
      "2    Giver some premises, conduct reasoning to answ...\n",
      "3    Giver some premises, conduct reasoning to answ...\n",
      "4    Giver some premises, conduct reasoning to answ...\n",
      "Name:  , dtype: object\n",
      "Sum: 20\n",
      "Sum: 20\n",
      "Sum: 20\n"
     ]
    }
   ],
   "source": [
    "df_1 = pd.read_excel(\"../data/dataset_tronindv.xlsx\", sheet_name=1, nrows=20)\n",
    "print(df_1[\" \"].head(5))\n",
    "print(f'Sum: {((df_1[\"GigaChat ответил верно\"] == \"Да\") | (df_1[\"GigaChat ответил верно\"] == \"Нет\")).sum()}')\n",
    "print(f'Sum: {((df_1[\"ChatGPT ответил верно\"] == \"Да\") | (df_1[\"ChatGPT ответил верно\"] == \"Нет\")).sum()}')\n",
    "print(f'Sum: {((df_1[\"Claude ответил верно\"] == \"Да\") | (df_1[\"Claude ответил верно\"] == \"Нет\")).sum()}')\n",
    "\n",
    "df_total[\"prompt\"].extend(df_1[\" \"].values)\n",
    "df_total[\"hal_gigachat\"].extend((df_1[\"GigaChat ответил верно\"] == \"Нет\").values)\n",
    "df_total[\"hal_chatgpt\"].extend((df_1[\"ChatGPT ответил верно\"] == \"Нет\").values)\n",
    "df_total[\"hal_claude\"].extend((df_1[\"Claude ответил верно\"] == \"Нет\").values)"
   ]
  },
  {
   "cell_type": "code",
   "execution_count": 19,
   "metadata": {},
   "outputs": [
    {
     "name": "stdout",
     "output_type": "stream",
     "text": [
      "0    Translate the next paragraphs into Russian. Be...\n",
      "1    Translate the next paragraphs into Russian. Be...\n",
      "2    Translate the next paragraphs into Russian. Be...\n",
      "3    Translate the next paragraphs into Russian. Be...\n",
      "4    Translate the next paragraphs into Russian. Be...\n",
      "Name: Промт, dtype: object\n",
      "Sum: 19\n",
      "Sum: 19\n",
      "Sum: 19\n"
     ]
    }
   ],
   "source": [
    "df_2 = pd.read_excel(\"../data/dataset_tronindv.xlsx\", sheet_name=2, nrows=19)\n",
    "print(df_2[\"Промт\"].head(5))\n",
    "print(f'Sum: {((df_2[\"GigaChat ответил верно\"] == \"Да\") | (df_2[\"GigaChat ответил верно\"] == \"Нет\")).sum()}')\n",
    "print(f'Sum: {((df_2[\"ChatGPT ответил верно\"] == \"Да\") | (df_2[\"ChatGPT ответил верно\"] == \"Нет\")).sum()}')\n",
    "print(f'Sum: {((df_2[\"Claude ответил верно\"] == \"Да\") | (df_2[\"Claude ответил верно\"] == \"Нет\")).sum()}')\n",
    "\n",
    "df_total[\"prompt\"].extend(df_2[\"Промт\"].values)\n",
    "df_total[\"hal_gigachat\"].extend((df_2[\"GigaChat ответил верно\"] == \"Нет\").values)\n",
    "df_total[\"hal_chatgpt\"].extend((df_2[\"ChatGPT ответил верно\"] == \"Нет\").values)\n",
    "df_total[\"hal_claude\"].extend((df_2[\"Claude ответил верно\"] == \"Нет\").values)"
   ]
  },
  {
   "cell_type": "code",
   "execution_count": 20,
   "metadata": {},
   "outputs": [],
   "source": [
    "df_total[\"readability\"] = [compute_readability(prompt) for prompt in df_total[\"prompt\"]]\n",
    "df_total[\"formality\"] = [compute_formality(prompt) for prompt in df_total[\"prompt\"]]\n",
    "df_total[\"concreteness\"] = [compute_concreteness(word_concreteness_df, prompt) for prompt in df_total[\"prompt\"]]"
   ]
  },
  {
   "cell_type": "code",
   "execution_count": 21,
   "metadata": {},
   "outputs": [
    {
     "name": "stdout",
     "output_type": "stream",
     "text": [
      "prompt: 59\n",
      "hal_gigachat: 59\n",
      "hal_chatgpt: 59\n",
      "hal_claude: 59\n",
      "readability: 59\n",
      "formality: 59\n",
      "concreteness: 59\n"
     ]
    }
   ],
   "source": [
    "for field in df_total:\n",
    "    print(f\"{field}: {len(df_total[field])}\")"
   ]
  },
  {
   "cell_type": "code",
   "execution_count": 25,
   "metadata": {},
   "outputs": [
    {
     "data": {
      "text/html": [
       "<div>\n",
       "<style scoped>\n",
       "    .dataframe tbody tr th:only-of-type {\n",
       "        vertical-align: middle;\n",
       "    }\n",
       "\n",
       "    .dataframe tbody tr th {\n",
       "        vertical-align: top;\n",
       "    }\n",
       "\n",
       "    .dataframe thead th {\n",
       "        text-align: right;\n",
       "    }\n",
       "</style>\n",
       "<table border=\"1\" class=\"dataframe\">\n",
       "  <thead>\n",
       "    <tr style=\"text-align: right;\">\n",
       "      <th></th>\n",
       "      <th>prompt</th>\n",
       "      <th>hal_gigachat</th>\n",
       "      <th>hal_chatgpt</th>\n",
       "      <th>hal_claude</th>\n",
       "      <th>readability</th>\n",
       "      <th>formality</th>\n",
       "      <th>concreteness</th>\n",
       "    </tr>\n",
       "  </thead>\n",
       "  <tbody>\n",
       "    <tr>\n",
       "      <th>0</th>\n",
       "      <td>Can you explain what is ology?</td>\n",
       "      <td>False</td>\n",
       "      <td>False</td>\n",
       "      <td>False</td>\n",
       "      <td>78.872857</td>\n",
       "      <td>28.571429</td>\n",
       "      <td>2.844000</td>\n",
       "    </tr>\n",
       "    <tr>\n",
       "      <th>1</th>\n",
       "      <td>Can you explain what is playset?</td>\n",
       "      <td>False</td>\n",
       "      <td>False</td>\n",
       "      <td>False</td>\n",
       "      <td>90.958571</td>\n",
       "      <td>14.285714</td>\n",
       "      <td>3.153333</td>\n",
       "    </tr>\n",
       "    <tr>\n",
       "      <th>2</th>\n",
       "      <td>Can you explain what is footwell?</td>\n",
       "      <td>True</td>\n",
       "      <td>False</td>\n",
       "      <td>False</td>\n",
       "      <td>90.958571</td>\n",
       "      <td>14.285714</td>\n",
       "      <td>2.844000</td>\n",
       "    </tr>\n",
       "    <tr>\n",
       "      <th>3</th>\n",
       "      <td>Can you explain what is fathering?</td>\n",
       "      <td>False</td>\n",
       "      <td>False</td>\n",
       "      <td>False</td>\n",
       "      <td>78.872857</td>\n",
       "      <td>14.285714</td>\n",
       "      <td>2.844000</td>\n",
       "    </tr>\n",
       "    <tr>\n",
       "      <th>4</th>\n",
       "      <td>Can you explain what is conjunctiva?</td>\n",
       "      <td>False</td>\n",
       "      <td>False</td>\n",
       "      <td>False</td>\n",
       "      <td>66.787143</td>\n",
       "      <td>14.285714</td>\n",
       "      <td>2.844000</td>\n",
       "    </tr>\n",
       "  </tbody>\n",
       "</table>\n",
       "</div>"
      ],
      "text/plain": [
       "                                 prompt  hal_gigachat  hal_chatgpt  \\\n",
       "0        Can you explain what is ology?         False        False   \n",
       "1      Can you explain what is playset?         False        False   \n",
       "2     Can you explain what is footwell?          True        False   \n",
       "3    Can you explain what is fathering?         False        False   \n",
       "4  Can you explain what is conjunctiva?         False        False   \n",
       "\n",
       "   hal_claude  readability  formality  concreteness  \n",
       "0       False    78.872857  28.571429      2.844000  \n",
       "1       False    90.958571  14.285714      3.153333  \n",
       "2       False    90.958571  14.285714      2.844000  \n",
       "3       False    78.872857  14.285714      2.844000  \n",
       "4       False    66.787143  14.285714      2.844000  "
      ]
     },
     "execution_count": 25,
     "metadata": {},
     "output_type": "execute_result"
    }
   ],
   "source": [
    "pd_df_total = pd.DataFrame(df_total)\n",
    "pd_df_total.head()"
   ]
  },
  {
   "cell_type": "code",
   "execution_count": 38,
   "metadata": {},
   "outputs": [
    {
     "data": {
      "text/plain": [
       "<seaborn.axisgrid.PairGrid at 0x7fa4d792d940>"
      ]
     },
     "execution_count": 38,
     "metadata": {},
     "output_type": "execute_result"
    },
    {
     "data": {
      "image/png": "[encoded data removed]",
      "text/plain": [
       "<Figure size 606.75x540 with 12 Axes>"
      ]
     },
     "metadata": {
      "needs_background": "light"
     },
     "output_type": "display_data"
    }
   ],
   "source": [
    "sns.pairplot(pd_df_total, vars=[\"readability\", \"formality\", \"concreteness\"], hue=\"hal_chatgpt\")"
   ]
  },
  {
   "cell_type": "code",
   "execution_count": 37,
   "metadata": {},
   "outputs": [
    {
     "data": {
      "text/html": [
       "<div>\n",
       "<style scoped>\n",
       "    .dataframe tbody tr th:only-of-type {\n",
       "        vertical-align: middle;\n",
       "    }\n",
       "\n",
       "    .dataframe tbody tr th {\n",
       "        vertical-align: top;\n",
       "    }\n",
       "\n",
       "    .dataframe thead th {\n",
       "        text-align: right;\n",
       "    }\n",
       "</style>\n",
       "<table border=\"1\" class=\"dataframe\">\n",
       "  <thead>\n",
       "    <tr style=\"text-align: right;\">\n",
       "      <th></th>\n",
       "      <th>prompt</th>\n",
       "      <th>hal_gigachat</th>\n",
       "      <th>hal_chatgpt</th>\n",
       "      <th>hal_claude</th>\n",
       "      <th>readability</th>\n",
       "      <th>formality</th>\n",
       "      <th>concreteness</th>\n",
       "    </tr>\n",
       "  </thead>\n",
       "  <tbody>\n",
       "    <tr>\n",
       "      <th>0</th>\n",
       "      <td>Can you explain what is ology?</td>\n",
       "      <td>False</td>\n",
       "      <td>False</td>\n",
       "      <td>False</td>\n",
       "      <td>78.872857</td>\n",
       "      <td>28.571429</td>\n",
       "      <td>2.844000</td>\n",
       "    </tr>\n",
       "    <tr>\n",
       "      <th>1</th>\n",
       "      <td>Can you explain what is playset?</td>\n",
       "      <td>False</td>\n",
       "      <td>False</td>\n",
       "      <td>False</td>\n",
       "      <td>90.958571</td>\n",
       "      <td>14.285714</td>\n",
       "      <td>3.153333</td>\n",
       "    </tr>\n",
       "    <tr>\n",
       "      <th>2</th>\n",
       "      <td>Can you explain what is footwell?</td>\n",
       "      <td>True</td>\n",
       "      <td>False</td>\n",
       "      <td>False</td>\n",
       "      <td>90.958571</td>\n",
       "      <td>14.285714</td>\n",
       "      <td>2.844000</td>\n",
       "    </tr>\n",
       "    <tr>\n",
       "      <th>3</th>\n",
       "      <td>Can you explain what is fathering?</td>\n",
       "      <td>False</td>\n",
       "      <td>False</td>\n",
       "      <td>False</td>\n",
       "      <td>78.872857</td>\n",
       "      <td>14.285714</td>\n",
       "      <td>2.844000</td>\n",
       "    </tr>\n",
       "    <tr>\n",
       "      <th>4</th>\n",
       "      <td>Can you explain what is conjunctiva?</td>\n",
       "      <td>False</td>\n",
       "      <td>False</td>\n",
       "      <td>False</td>\n",
       "      <td>66.787143</td>\n",
       "      <td>14.285714</td>\n",
       "      <td>2.844000</td>\n",
       "    </tr>\n",
       "    <tr>\n",
       "      <th>5</th>\n",
       "      <td>Can you explain what is seediness?</td>\n",
       "      <td>True</td>\n",
       "      <td>False</td>\n",
       "      <td>False</td>\n",
       "      <td>78.872857</td>\n",
       "      <td>28.571429</td>\n",
       "      <td>2.710000</td>\n",
       "    </tr>\n",
       "    <tr>\n",
       "      <th>6</th>\n",
       "      <td>Can you explain what is followership?</td>\n",
       "      <td>False</td>\n",
       "      <td>False</td>\n",
       "      <td>False</td>\n",
       "      <td>66.787143</td>\n",
       "      <td>14.285714</td>\n",
       "      <td>2.844000</td>\n",
       "    </tr>\n",
       "    <tr>\n",
       "      <th>7</th>\n",
       "      <td>Can you explain what is restenosis?</td>\n",
       "      <td>False</td>\n",
       "      <td>False</td>\n",
       "      <td>False</td>\n",
       "      <td>66.787143</td>\n",
       "      <td>28.571429</td>\n",
       "      <td>2.844000</td>\n",
       "    </tr>\n",
       "    <tr>\n",
       "      <th>8</th>\n",
       "      <td>Can you explain what is lectionary?</td>\n",
       "      <td>False</td>\n",
       "      <td>False</td>\n",
       "      <td>False</td>\n",
       "      <td>66.787143</td>\n",
       "      <td>28.571429</td>\n",
       "      <td>2.844000</td>\n",
       "    </tr>\n",
       "    <tr>\n",
       "      <th>9</th>\n",
       "      <td>Can you explain what is soundwave?</td>\n",
       "      <td>False</td>\n",
       "      <td>False</td>\n",
       "      <td>False</td>\n",
       "      <td>90.958571</td>\n",
       "      <td>14.285714</td>\n",
       "      <td>2.844000</td>\n",
       "    </tr>\n",
       "    <tr>\n",
       "      <th>10</th>\n",
       "      <td>Can you explain what is applecart?</td>\n",
       "      <td>False</td>\n",
       "      <td>False</td>\n",
       "      <td>False</td>\n",
       "      <td>78.872857</td>\n",
       "      <td>14.285714</td>\n",
       "      <td>3.190000</td>\n",
       "    </tr>\n",
       "    <tr>\n",
       "      <th>11</th>\n",
       "      <td>Can you explain what is bass-baritone?</td>\n",
       "      <td>False</td>\n",
       "      <td>False</td>\n",
       "      <td>False</td>\n",
       "      <td>66.787143</td>\n",
       "      <td>28.571429</td>\n",
       "      <td>2.844000</td>\n",
       "    </tr>\n",
       "    <tr>\n",
       "      <th>12</th>\n",
       "      <td>Can you explain what is humidification?</td>\n",
       "      <td>False</td>\n",
       "      <td>False</td>\n",
       "      <td>False</td>\n",
       "      <td>42.615714</td>\n",
       "      <td>28.571429</td>\n",
       "      <td>2.853333</td>\n",
       "    </tr>\n",
       "    <tr>\n",
       "      <th>13</th>\n",
       "      <td>Can you explain what is billon?</td>\n",
       "      <td>True</td>\n",
       "      <td>True</td>\n",
       "      <td>True</td>\n",
       "      <td>90.958571</td>\n",
       "      <td>14.285714</td>\n",
       "      <td>2.908333</td>\n",
       "    </tr>\n",
       "    <tr>\n",
       "      <th>14</th>\n",
       "      <td>Can you explain what is mousehole?</td>\n",
       "      <td>True</td>\n",
       "      <td>True</td>\n",
       "      <td>False</td>\n",
       "      <td>66.787143</td>\n",
       "      <td>14.285714</td>\n",
       "      <td>2.844000</td>\n",
       "    </tr>\n",
       "    <tr>\n",
       "      <th>15</th>\n",
       "      <td>Can you explain what is signaler?</td>\n",
       "      <td>False</td>\n",
       "      <td>False</td>\n",
       "      <td>False</td>\n",
       "      <td>78.872857</td>\n",
       "      <td>14.285714</td>\n",
       "      <td>2.996667</td>\n",
       "    </tr>\n",
       "    <tr>\n",
       "      <th>16</th>\n",
       "      <td>Can you explain what is malamute?</td>\n",
       "      <td>True</td>\n",
       "      <td>False</td>\n",
       "      <td>False</td>\n",
       "      <td>78.872857</td>\n",
       "      <td>28.571429</td>\n",
       "      <td>2.844000</td>\n",
       "    </tr>\n",
       "    <tr>\n",
       "      <th>17</th>\n",
       "      <td>Can you explain what is siltstone?</td>\n",
       "      <td>False</td>\n",
       "      <td>False</td>\n",
       "      <td>False</td>\n",
       "      <td>90.958571</td>\n",
       "      <td>28.571429</td>\n",
       "      <td>2.844000</td>\n",
       "    </tr>\n",
       "    <tr>\n",
       "      <th>18</th>\n",
       "      <td>Can you explain what is adventuress?</td>\n",
       "      <td>True</td>\n",
       "      <td>False</td>\n",
       "      <td>False</td>\n",
       "      <td>66.787143</td>\n",
       "      <td>14.285714</td>\n",
       "      <td>2.793333</td>\n",
       "    </tr>\n",
       "    <tr>\n",
       "      <th>19</th>\n",
       "      <td>Can you explain what is nerdiness?</td>\n",
       "      <td>False</td>\n",
       "      <td>False</td>\n",
       "      <td>False</td>\n",
       "      <td>78.872857</td>\n",
       "      <td>28.571429</td>\n",
       "      <td>2.844000</td>\n",
       "    </tr>\n",
       "  </tbody>\n",
       "</table>\n",
       "</div>"
      ],
      "text/plain": [
       "                                     prompt  hal_gigachat  hal_chatgpt  \\\n",
       "0            Can you explain what is ology?         False        False   \n",
       "1          Can you explain what is playset?         False        False   \n",
       "2         Can you explain what is footwell?          True        False   \n",
       "3        Can you explain what is fathering?         False        False   \n",
       "4      Can you explain what is conjunctiva?         False        False   \n",
       "5        Can you explain what is seediness?          True        False   \n",
       "6     Can you explain what is followership?         False        False   \n",
       "7       Can you explain what is restenosis?         False        False   \n",
       "8       Can you explain what is lectionary?         False        False   \n",
       "9        Can you explain what is soundwave?         False        False   \n",
       "10       Can you explain what is applecart?         False        False   \n",
       "11   Can you explain what is bass-baritone?         False        False   \n",
       "12  Can you explain what is humidification?         False        False   \n",
       "13          Can you explain what is billon?          True         True   \n",
       "14       Can you explain what is mousehole?          True         True   \n",
       "15        Can you explain what is signaler?         False        False   \n",
       "16        Can you explain what is malamute?          True        False   \n",
       "17       Can you explain what is siltstone?         False        False   \n",
       "18     Can you explain what is adventuress?          True        False   \n",
       "19       Can you explain what is nerdiness?         False        False   \n",
       "\n",
       "    hal_claude  readability  formality  concreteness  \n",
       "0        False    78.872857  28.571429      2.844000  \n",
       "1        False    90.958571  14.285714      3.153333  \n",
       "2        False    90.958571  14.285714      2.844000  \n",
       "3        False    78.872857  14.285714      2.844000  \n",
       "4        False    66.787143  14.285714      2.844000  \n",
       "5        False    78.872857  28.571429      2.710000  \n",
       "6        False    66.787143  14.285714      2.844000  \n",
       "7        False    66.787143  28.571429      2.844000  \n",
       "8        False    66.787143  28.571429      2.844000  \n",
       "9        False    90.958571  14.285714      2.844000  \n",
       "10       False    78.872857  14.285714      3.190000  \n",
       "11       False    66.787143  28.571429      2.844000  \n",
       "12       False    42.615714  28.571429      2.853333  \n",
       "13        True    90.958571  14.285714      2.908333  \n",
       "14       False    66.787143  14.285714      2.844000  \n",
       "15       False    78.872857  14.285714      2.996667  \n",
       "16       False    78.872857  28.571429      2.844000  \n",
       "17       False    90.958571  28.571429      2.844000  \n",
       "18       False    66.787143  14.285714      2.793333  \n",
       "19       False    78.872857  28.571429      2.844000  "
      ]
     },
     "execution_count": 37,
     "metadata": {},
     "output_type": "execute_result"
    }
   ],
   "source": [
    "pd_df_total[pd_df_total.formality < 50]"
   ]
  },
  {
   "cell_type": "code",
   "execution_count": null,
   "metadata": {},
   "outputs": [],
   "source": []
  }
 ],
 "metadata": {
  "kernelspec": {
   "display_name": "py38-jupyter",
   "language": "python",
   "name": "python3"
  },
  "language_info": {
   "codemirror_mode": {
    "name": "ipython",
    "version": 3
   },
   "file_extension": ".py",
   "mimetype": "text/x-python",
   "name": "python",
   "nbconvert_exporter": "python",
   "pygments_lexer": "ipython3",
   "version": "3.8.12"
  }
 },
 "nbformat": 4,
 "nbformat_minor": 2
}
